{
  "cells": [
    {
      "cell_type": "markdown",
      "metadata": {
        "id": "view-in-github",
        "colab_type": "text"
      },
      "source": [
        "<a href=\"https://colab.research.google.com/github/rifahtasnia/Air-Canada-Seat-choice-prediction/blob/master/Air_Canada_seat_choice_prediction.ipynb\" target=\"_parent\"><img src=\"https://colab.research.google.com/assets/colab-badge.svg\" alt=\"Open In Colab\"/></a>"
      ]
    },
    {
      "cell_type": "code",
      "execution_count": null,
      "metadata": {
        "id": "UNBW2JFH7wfs"
      },
      "outputs": [],
      "source": [
        "import pandas as pd\n",
        "import numpy as np\n",
        "from sklearn.ensemble import RandomForestClassifier\n",
        "from sklearn.model_selection import train_test_split, RandomizedSearchCV, GridSearchCV\n",
        "from sklearn.metrics import accuracy_score, f1_score, classification_report, confusion_matrix\n",
        "import seaborn as sns\n",
        "import matplotlib.pyplot as plt\n",
        "\n"
      ]
    },
    {
      "cell_type": "markdown",
      "source": [
        "# Dataset Loading and Feature extraction"
      ],
      "metadata": {
        "id": "VtLCAByY4s4C"
      }
    },
    {
      "cell_type": "code",
      "execution_count": null,
      "metadata": {
        "id": "ymMgEs5b712h"
      },
      "outputs": [],
      "source": [
        "participant_data_path = '/content/participant_data.csv'\n",
        "participant_data = pd.read_csv(participant_data_path)\n",
        "\n",
        "participant_data = participant_data[participant_data['choice'].notnull()]\n",
        "participant_data['flight_departure_datetime'] = pd.to_datetime(participant_data['flight_departure_datetime'], errors='coerce')\n",
        "participant_data['purchase_datetime'] = pd.to_datetime(participant_data['purchase_datetime'], errors='coerce')\n",
        "\n",
        "# Feature extraction\n",
        "participant_data['departure_month'] = participant_data['flight_departure_datetime'].dt.strftime('%y%m').astype(int)\n",
        "participant_data['purchase_month'] = participant_data['purchase_datetime'].dt.strftime('%y%m').astype(int)\n",
        "participant_data['advs_inventory_ratio'] = participant_data['ADVS_inventory'] / participant_data['ADVS_capacity']\n",
        "participant_data['pref_inventory_ratio'] = participant_data['PREF_inventory'] / participant_data['PREF_capacity']\n",
        "participant_data['total_inventory_ratio'] = participant_data['advs_inventory_ratio'] + participant_data['pref_inventory_ratio']\n",
        "choice_mapping = {'advs': 1, 'pref': 2, 'nochoice': 0}\n",
        "participant_data['choice_map'] = participant_data['choice'].map(choice_mapping).astype(int)\n",
        "participant_data['dep_dow_id'] = participant_data['flight_departure_datetime'].dt.dayofweek\n",
        "participant_data['purchweeks_before_depart'] = ((participant_data['flight_departure_datetime'] - participant_data['purchase_datetime']).dt.days / 7).astype(int)\n",
        "\n",
        "# Define extracted features\n",
        "extracted_features = participant_data[['departure_month', 'purchase_month', 'trip_type', 'branded_fare', 'number_of_pax',\n",
        "                                       'ADVS_price', 'PREF_price', 'advs_inventory_ratio', 'pref_inventory_ratio',\n",
        "                                       'total_inventory_ratio', 'purchweeks_before_depart', 'choice_map']]\n",
        "\n",
        "features = ['departure_month', 'purchase_month', 'trip_type', 'branded_fare', 'number_of_pax',\n",
        "            'ADVS_price', 'PREF_price', 'advs_inventory_ratio', 'pref_inventory_ratio',\n",
        "            'total_inventory_ratio', 'purchweeks_before_depart']\n",
        "target = 'choice_map'\n",
        "X = extracted_features[features]\n",
        "y = extracted_features[target]\n",
        "\n",
        "\n",
        "X_train, X_test, y_train, y_test = train_test_split(X, y, test_size=0.2, random_state=42, stratify=y)\n",
        "\n"
      ]
    },
    {
      "cell_type": "markdown",
      "source": [
        "# Hyperparameter tuning and Model training"
      ],
      "metadata": {
        "id": "pNM0w26G39h1"
      }
    },
    {
      "cell_type": "code",
      "execution_count": null,
      "metadata": {
        "colab": {
          "base_uri": "https://localhost:8080/"
        },
        "id": "G66FgOXj79V4",
        "outputId": "6a2f5a75-7a7a-48f4-d594-37c44582c0d7"
      },
      "outputs": [
        {
          "output_type": "stream",
          "name": "stdout",
          "text": [
            "Fitting 3 folds for each of 10 candidates, totalling 30 fits\n"
          ]
        },
        {
          "output_type": "stream",
          "name": "stderr",
          "text": [
            "/usr/local/lib/python3.10/dist-packages/joblib/externals/loky/process_executor.py:752: UserWarning: A worker stopped while some jobs were given to the executor. This can be caused by a too short worker timeout or by a memory leak.\n",
            "  warnings.warn(\n",
            "/usr/local/lib/python3.10/dist-packages/numpy/ma/core.py:2820: RuntimeWarning: invalid value encountered in cast\n",
            "  _data = np.array(data, dtype=dtype, copy=copy,\n"
          ]
        },
        {
          "output_type": "stream",
          "name": "stdout",
          "text": [
            "Best Random Parameters: {'n_estimators': 600, 'min_samples_split': 10, 'min_samples_leaf': 2, 'max_features': 'log2', 'max_depth': 80, 'bootstrap': True}\n",
            "Best Random Search Score: 0.7127005947724422\n"
          ]
        }
      ],
      "source": [
        "# Hyperparameter tuning using RandomizedSearchCV\n",
        "random_param_grid = {\n",
        "    'n_estimators': [int(x) for x in np.linspace(start=100, stop=1200, num=12)],\n",
        "    'max_features': ['sqrt', 'log2'],\n",
        "    'max_depth': [int(x) for x in np.linspace(10, 110, num=11)] + [None],\n",
        "    'min_samples_split': [2, 5, 10],\n",
        "    'min_samples_leaf': [1, 2, 4],\n",
        "    'bootstrap': [True, False]\n",
        "}\n",
        "\n",
        "\n",
        "base_rf = RandomForestClassifier(random_state=42)\n",
        "\n",
        "\n",
        "random_search = RandomizedSearchCV(estimator=base_rf, param_distributions=random_param_grid,\n",
        "                                   n_iter=10, cv=3, verbose=2, random_state=42, n_jobs=-1, scoring='f1_weighted')\n",
        "\n",
        "\n",
        "random_search.fit(X_train, y_train)\n",
        "\n",
        "# Get the best parameters from the random search\n",
        "best_random_params = random_search.best_params_\n",
        "best_random_score = random_search.best_score_\n",
        "print(f\"Best Random Parameters: {best_random_params}\")\n",
        "print(f\"Best Random Search Score: {best_random_score}\")\n",
        "\n",
        "# Train the optimized model using best parameters\n",
        "optimized_rf_model = RandomForestClassifier(random_state=42, class_weight='balanced', **best_random_params)\n",
        "optimized_rf_model.fit(X_train, y_train)\n",
        "\n",
        "\n",
        "y_pred_optimized = optimized_rf_model.predict(X_test)\n",
        "\n"
      ]
    },
    {
      "cell_type": "markdown",
      "source": [
        "# Evaluate Model"
      ],
      "metadata": {
        "id": "HLaTFiX24Mx6"
      }
    },
    {
      "cell_type": "code",
      "execution_count": null,
      "metadata": {
        "id": "3uSAa5ms8CK2",
        "colab": {
          "base_uri": "https://localhost:8080/",
          "height": 790
        },
        "outputId": "d28063bf-4f47-4ce2-8460-957d524a4b76"
      },
      "outputs": [
        {
          "output_type": "stream",
          "name": "stdout",
          "text": [
            "Optimized Model Accuracy: 0.7184155844155844\n",
            "Optimized Model F1 Score: 0.7203692831247607\n",
            "Classification Report for Optimized Model:\n",
            "               precision    recall  f1-score   support\n",
            "\n",
            "           0       0.86      0.83      0.84     26178\n",
            "           1       0.42      0.36      0.39      6666\n",
            "           2       0.47      0.64      0.54      5656\n",
            "\n",
            "    accuracy                           0.72     38500\n",
            "   macro avg       0.58      0.61      0.59     38500\n",
            "weighted avg       0.73      0.72      0.72     38500\n",
            "\n"
          ]
        },
        {
          "output_type": "display_data",
          "data": {
            "text/plain": [
              "<Figure size 800x600 with 2 Axes>"
            ],
            "image/png": "[encoded data removed]"
          },
          "metadata": {}
        }
      ],
      "source": [
        "accuracy_optimized = accuracy_score(y_test, y_pred_optimized)\n",
        "f1_optimized = f1_score(y_test, y_pred_optimized, average='weighted')\n",
        "class_report_optimized = classification_report(y_test, y_pred_optimized)\n",
        "conf_matrix_optimized = confusion_matrix(y_test, y_pred_optimized)\n",
        "\n",
        "\n",
        "print(f\"Optimized Model Accuracy: {accuracy_optimized}\")\n",
        "print(f\"Optimized Model F1 Score: {f1_optimized}\")\n",
        "print(\"Classification Report for Optimized Model:\\n\", class_report_optimized)\n",
        "\n",
        "\n",
        "plt.figure(figsize=(8, 6))\n",
        "sns.heatmap(conf_matrix_optimized, annot=True, fmt='d', cmap='Blues', xticklabels=[0, 1, 2], yticklabels=[0, 1, 2])\n",
        "plt.title('Confusion Matrix for Optimized Model')\n",
        "plt.xlabel('Predicted')\n",
        "plt.ylabel('Actual')\n",
        "plt.show()"
      ]
    },
    {
      "cell_type": "markdown",
      "source": [
        "# Choice prediction for the baseline file"
      ],
      "metadata": {
        "id": "sZVOP4HS4TxN"
      }
    },
    {
      "cell_type": "code",
      "source": [
        "baseline_data_path = '/content/baseline.csv'\n",
        "baseline_data = pd.read_csv(baseline_data_path)\n",
        "baseline_data_final = pd.read_csv(baseline_data_path)"
      ],
      "metadata": {
        "id": "XMMNVQXa4vqp"
      },
      "execution_count": null,
      "outputs": []
    },
    {
      "cell_type": "code",
      "source": [
        "baseline_data['flight_departure_datetime'] = pd.to_datetime(baseline_data['flight_departure_datetime'])\n",
        "baseline_data['purchase_datetime'] = pd.to_datetime(baseline_data['purchase_datetime'])\n",
        "\n",
        "baseline_data['departure_month'] = baseline_data['flight_departure_datetime'].dt.strftime('%y%m').astype(int)\n",
        "baseline_data['purchase_month'] = baseline_data['purchase_datetime'].dt.strftime('%y%m').astype(int)\n",
        "\n",
        "baseline_data['advs_inventory_ratio'] = baseline_data['ADVS_inventory'] / baseline_data['ADVS_capacity']\n",
        "baseline_data['pref_inventory_ratio'] = baseline_data['PREF_inventory'] / baseline_data['PREF_capacity']\n",
        "baseline_data['total_inventory_ratio'] = baseline_data['advs_inventory_ratio'] + baseline_data['pref_inventory_ratio']\n",
        "\n",
        "baseline_data['dep_dow_id'] = baseline_data['flight_departure_datetime'].dt.dayofweek\n",
        "baseline_data['purchweeks_before_depart'] = ((baseline_data['flight_departure_datetime'] - baseline_data['purchase_datetime']).dt.days / 7).astype(int)\n",
        "\n",
        "X_missing = baseline_data[features]\n",
        "baseline_data['Predicted choice'] = optimized_rf_model.predict(X_missing)\n",
        "\n",
        "\n",
        "output_df = baseline_data[['id', 'Predicted choice']]\n",
        "\n",
        "\n",
        "#output_file = \"/content/predicted_units.csv\"\n",
        "#output_df.to_csv(output_file, index=False)\n",
        "\n",
        "# Replace the missing 'Units' values in the original dataset with the predictions\n",
        "baseline_data.loc[baseline_data['choice'].isnull(), 'choice'] = baseline_data['Predicted choice']\n",
        "\n",
        "print(baseline_data.columns)\n",
        "\n",
        "\n",
        "final_dataset_path = \"/content/participant_data_with_predictions.csv\"\n",
        "baseline_data.to_csv(final_dataset_path, index=False)\n",
        "\n",
        "final_dataset_path\n"
      ],
      "metadata": {
        "colab": {
          "base_uri": "https://localhost:8080/",
          "height": 174
        },
        "id": "jUTHxEg23DWF",
        "outputId": "57938dc1-744b-41b1-85ec-8b52d4e64d4a"
      },
      "execution_count": null,
      "outputs": [
        {
          "output_type": "stream",
          "name": "stdout",
          "text": [
            "Index(['id', 'ticket_id', 'od', 'flight_departure_datetime',\n",
            "       'purchase_datetime', 'trip_type', 'branded_fare', 'number_of_pax',\n",
            "       'ADVS_price', 'PREF_price', 'ADVS_capacity', 'PREF_capacity',\n",
            "       'ADVS_inventory', 'PREF_inventory', 'choice', 'departure_month',\n",
            "       'purchase_month', 'advs_inventory_ratio', 'pref_inventory_ratio',\n",
            "       'total_inventory_ratio', 'dep_dow_id', 'purchweeks_before_depart',\n",
            "       'Predicted choice'],\n",
            "      dtype='object')\n"
          ]
        },
        {
          "output_type": "execute_result",
          "data": {
            "text/plain": [
              "'/content/participant_data_with_predictions.csv'"
            ],
            "application/vnd.google.colaboratory.intrinsic+json": {
              "type": "string"
            }
          },
          "metadata": {},
          "execution_count": 31
        }
      ]
    },
    {
      "cell_type": "code",
      "source": [
        "predicted_data_path = '/content/participant_data_with_predictions.csv'\n",
        "predicted_data = pd.read_csv(predicted_data_path)\n",
        "\n",
        "choice_mapping = {1: 'advs', 2: 'pref', 0: 'nochoice'}\n",
        "\n",
        "\n",
        "print(\"Columns in baseline_data:\", baseline_data.columns)\n",
        "\n",
        "if 'Predicted choice' not in predicted_data.columns:\n",
        "    raise KeyError(\"'Predicted choice' column not found in predicted_data. Please check the column name or file.\")\n",
        "\n",
        "\n",
        "predicted_data['Predicted choice'] = predicted_data['Predicted choice'].map(choice_mapping)\n",
        "\n",
        "id_to_predicted_choice = dict(zip(predicted_data['id'], predicted_data['Predicted choice']))\n",
        "\n",
        "\n",
        "baseline_data_final['choice'] = baseline_data_final['id'].map(id_to_predicted_choice)\n",
        "\n",
        "\n",
        "baseline_data_final.to_csv(\"baseline_data_final.csv\", index=False)\n"
      ],
      "metadata": {
        "colab": {
          "base_uri": "https://localhost:8080/"
        },
        "id": "LBJq-gy4CrDD",
        "outputId": "4c65fc2b-171e-441e-ab45-454696c1be84"
      },
      "execution_count": null,
      "outputs": [
        {
          "output_type": "stream",
          "name": "stdout",
          "text": [
            "Columns in baseline_data: Index(['id', 'ticket_id', 'od', 'flight_departure_datetime',\n",
            "       'purchase_datetime', 'trip_type', 'branded_fare', 'number_of_pax',\n",
            "       'ADVS_price', 'PREF_price', 'ADVS_capacity', 'PREF_capacity',\n",
            "       'ADVS_inventory', 'PREF_inventory', 'choice', 'departure_month',\n",
            "       'purchase_month', 'advs_inventory_ratio', 'pref_inventory_ratio',\n",
            "       'total_inventory_ratio', 'dep_dow_id', 'purchweeks_before_depart',\n",
            "       'Predicted choice'],\n",
            "      dtype='object')\n"
          ]
        }
      ]
    }
  ],
  "metadata": {
    "colab": {
      "provenance": [],
      "include_colab_link": true
    },
    "kernelspec": {
      "display_name": "Python 3",
      "name": "python3"
    },
    "language_info": {
      "name": "python"
    }
  },
  "nbformat": 4,
  "nbformat_minor": 0
}